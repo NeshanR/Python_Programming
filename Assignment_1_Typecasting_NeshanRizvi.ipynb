{
 "cells": [
  {
   "cell_type": "markdown",
   "id": "5a962c66",
   "metadata": {},
   "source": [
    "# Int Assignment"
   ]
  },
  {
   "cell_type": "code",
   "execution_count": 48,
   "id": "f6a7d160",
   "metadata": {
    "scrolled": true
   },
   "outputs": [
    {
     "name": "stdout",
     "output_type": "stream",
     "text": [
      "<class 'int'> 140703849223240\n"
     ]
    }
   ],
   "source": [
    "# Q. Declare an int value and store it in a variable.Check the type and print the id of the same.\n",
    "\n",
    "num=10\n",
    "print(type(num),id(num))"
   ]
  },
  {
   "cell_type": "code",
   "execution_count": 6,
   "id": "ec3bff9b",
   "metadata": {},
   "outputs": [
    {
     "name": "stdout",
     "output_type": "stream",
     "text": [
      "Id of num1 is 140703849224712\n",
      "Id of num2 is 140703849224712\n"
     ]
    }
   ],
   "source": [
    "#Q. Take one int value between 0 - 256. Assign it to two different variables.\n",
    "#   Check the id of both the variables. It should come the same. Check why?\n",
    "\n",
    "num1=56\n",
    "num2=56\n",
    "print('Id of num1 is',id(num1))\n",
    "print('Id of num2 is',id(num2))\n"
   ]
  },
  {
   "cell_type": "markdown",
   "id": "8c92f4db",
   "metadata": {},
   "source": [
    "The Id of both num1 and num2 is same because, for similar integer values(between -5 to 256), a single object is created in memory."
   ]
  },
  {
   "cell_type": "code",
   "execution_count": 9,
   "id": "b95e5594",
   "metadata": {},
   "outputs": [
    {
     "name": "stdout",
     "output_type": "stream",
     "text": [
      "Id of num1 is 2064424451664\n",
      "Id of num2 is 2064424449968\n"
     ]
    }
   ],
   "source": [
    "#Q. Take one int value either less than -5 or greater than 256.Assign it to two different variables.\n",
    "#   Check the id of both the variables. It should come different.Check why?\n",
    "\n",
    "num1=-6\n",
    "num2=-6\n",
    "print('Id of num1 is',id(num1))\n",
    "print('Id of num2 is',id(num2))\n"
   ]
  },
  {
   "cell_type": "code",
   "execution_count": 10,
   "id": "7accb079",
   "metadata": {},
   "outputs": [
    {
     "name": "stdout",
     "output_type": "stream",
     "text": [
      "Id of num1 is 2064424451472\n",
      "Id of num2 is 2064424450800\n"
     ]
    }
   ],
   "source": [
    "num1=672\n",
    "num2=672\n",
    "print('Id of num1 is',id(num1))\n",
    "print('Id of num2 is',id(num2))\n"
   ]
  },
  {
   "cell_type": "markdown",
   "id": "e39b8c40",
   "metadata": {},
   "source": [
    "Here, the ids of num1 and num2 are different because ,for similar integer values(less than -5 or more than 256), different objecst are created in memory."
   ]
  },
  {
   "cell_type": "markdown",
   "id": "238eb642",
   "metadata": {},
   "source": [
    "# Q. Arithmetic Operations on integers.\n",
    "### Take two different integer values.Store them in two different variables. Do below operations on them:-"
   ]
  },
  {
   "cell_type": "code",
   "execution_count": 41,
   "id": "01b0bbe6",
   "metadata": {},
   "outputs": [
    {
     "name": "stdout",
     "output_type": "stream",
     "text": [
      "The sum of 62 and 5 is: 67\n"
     ]
    }
   ],
   "source": [
    "# Find sum of both numbers\n",
    "num1=62\n",
    "num2=5\n",
    "sum=num1+num2\n",
    "print((f'The sum of {num1} and {num2} is:'),sum)"
   ]
  },
  {
   "cell_type": "code",
   "execution_count": 42,
   "id": "6dd61d53",
   "metadata": {},
   "outputs": [
    {
     "name": "stdout",
     "output_type": "stream",
     "text": [
      "The difference between 62 and 5 is: 57\n"
     ]
    }
   ],
   "source": [
    "# Find difference between them\n",
    "num1=62\n",
    "num2=5\n",
    "diff=num1-num2\n",
    "print('The difference between {0} and {1} is:'.format(num1,num2),diff)"
   ]
  },
  {
   "cell_type": "code",
   "execution_count": 43,
   "id": "412dbe07",
   "metadata": {},
   "outputs": [
    {
     "name": "stdout",
     "output_type": "stream",
     "text": [
      "The product of 62 and 5 is: 310\n"
     ]
    }
   ],
   "source": [
    "# Find the product of both numbers.\n",
    "num1=62\n",
    "num2=5\n",
    "prod=num1*num2\n",
    "print(f'The product of {num1} and {num2} is:',prod)"
   ]
  },
  {
   "cell_type": "code",
   "execution_count": 44,
   "id": "561fe2ce",
   "metadata": {},
   "outputs": [
    {
     "name": "stdout",
     "output_type": "stream",
     "text": [
      "The result of 62 divided by 5 is: 12.4\n"
     ]
    }
   ],
   "source": [
    "# Find value after dividing first num with second number\n",
    "num1=62\n",
    "num2=5\n",
    "div=num1/num2\n",
    "print(f'The result of {num1} divided by {num2} is:',div)"
   ]
  },
  {
   "cell_type": "code",
   "execution_count": 45,
   "id": "8bec1b9c",
   "metadata": {},
   "outputs": [
    {
     "name": "stdout",
     "output_type": "stream",
     "text": [
      "The remainder when 62 is divided by 5 is: 2\n"
     ]
    }
   ],
   "source": [
    "# Find the remainder after dividing first number with second number\n",
    "num1=62\n",
    "num2=5\n",
    "remainder=num1%num2\n",
    "print(f'The remainder when {num1} is divided by {num2} is:',remainder)"
   ]
  },
  {
   "cell_type": "code",
   "execution_count": 25,
   "id": "0078543e",
   "metadata": {},
   "outputs": [
    {
     "name": "stdout",
     "output_type": "stream",
     "text": [
      "The quotient when 62 is divided by 5 is: 12\n"
     ]
    }
   ],
   "source": [
    "# Find the quotient after dividing first number with second number\n",
    "num1=62\n",
    "num2=5\n",
    "quotient=num1//num2\n",
    "print(f'The quotient when {num1} is divided by {num2} is:',quotient)"
   ]
  },
  {
   "cell_type": "code",
   "execution_count": 47,
   "id": "e23a8d6b",
   "metadata": {},
   "outputs": [
    {
     "name": "stdout",
     "output_type": "stream",
     "text": [
      "The result when 62 is raised to the power of 5 is: 916132832\n"
     ]
    }
   ],
   "source": [
    "# Find the result of the first num to the power of the second number.\n",
    "num1=62\n",
    "num2=5\n",
    "result=num1**num2\n",
    "print(f'The result when {num1} is raised to the power of {num2} is:',result)"
   ]
  },
  {
   "cell_type": "markdown",
   "id": "f6963282",
   "metadata": {},
   "source": [
    "# Q. Comparison Operators on integers. \n",
    "###  Take two different integer values. Store them in two different variables. Do below operations on them:-\n",
    "\n"
   ]
  },
  {
   "cell_type": "code",
   "execution_count": 52,
   "id": "1fab1cd4",
   "metadata": {},
   "outputs": [],
   "source": [
    "# Compare the two numbers with below operator:-\n",
    "# Observe their output(return type should be boolean)\n"
   ]
  },
  {
   "cell_type": "code",
   "execution_count": 57,
   "id": "f5b53cb1",
   "metadata": {},
   "outputs": [
    {
     "name": "stdout",
     "output_type": "stream",
     "text": [
      "False <class 'bool'>\n"
     ]
    }
   ],
   "source": [
    "# Greater than, '>'\n",
    "num1=87\n",
    "num2=102\n",
    "isGreater=num1>num2\n",
    "print((isGreater),type(isGreater))"
   ]
  },
  {
   "cell_type": "code",
   "execution_count": 58,
   "id": "cd7b02fa",
   "metadata": {},
   "outputs": [
    {
     "name": "stdout",
     "output_type": "stream",
     "text": [
      "True <class 'bool'>\n"
     ]
    }
   ],
   "source": [
    "# Smaller than, '<'\n",
    "num1=87\n",
    "num2=102\n",
    "isSmaller=num1<num2\n",
    "print((isSmaller),type(isSmaller))"
   ]
  },
  {
   "cell_type": "code",
   "execution_count": 59,
   "id": "134ed97b",
   "metadata": {},
   "outputs": [
    {
     "name": "stdout",
     "output_type": "stream",
     "text": [
      "False <class 'bool'>\n"
     ]
    }
   ],
   "source": [
    "# Greater than or equal to, '>='\n",
    "num1=87\n",
    "num2=102\n",
    "isGreaterEqual=num1>=num2\n",
    "print((isGreaterEqual),type(isGreaterEqual))"
   ]
  },
  {
   "cell_type": "code",
   "execution_count": 60,
   "id": "e474342e",
   "metadata": {},
   "outputs": [
    {
     "name": "stdout",
     "output_type": "stream",
     "text": [
      "True <class 'bool'>\n"
     ]
    }
   ],
   "source": [
    "# Less than or equal to, '<='\n",
    "num1=87\n",
    "num2=102\n",
    "isLessEqual=num1<=num2\n",
    "print((isLessEqual),type(isLessEqual))"
   ]
  },
  {
   "cell_type": "markdown",
   "id": "1957c847",
   "metadata": {},
   "source": [
    "### Equality Operator\n",
    "### Take two different integer values. Store them in two different variables. Equate them using equality operators (==, !=)"
   ]
  },
  {
   "cell_type": "code",
   "execution_count": 61,
   "id": "e8f93070",
   "metadata": {},
   "outputs": [],
   "source": [
    "# Observe the output(return type should be boolean)"
   ]
  },
  {
   "cell_type": "code",
   "execution_count": 63,
   "id": "297d32d5",
   "metadata": {},
   "outputs": [
    {
     "name": "stdout",
     "output_type": "stream",
     "text": [
      "False\n"
     ]
    }
   ],
   "source": [
    "num1=96\n",
    "num2=99\n",
    "print(num1==num2)"
   ]
  },
  {
   "cell_type": "code",
   "execution_count": 64,
   "id": "75139a13",
   "metadata": {},
   "outputs": [
    {
     "name": "stdout",
     "output_type": "stream",
     "text": [
      "True\n"
     ]
    }
   ],
   "source": [
    "num1=96\n",
    "num2=99\n",
    "print(num1!=num2)"
   ]
  },
  {
   "cell_type": "markdown",
   "id": "40101b0d",
   "metadata": {},
   "source": [
    "### Q. Logical operators\n",
    "### Observe the output of below code.Cross check the output manually"
   ]
  },
  {
   "cell_type": "code",
   "execution_count": 66,
   "id": "eb790db1",
   "metadata": {},
   "outputs": [
    {
     "name": "stdout",
     "output_type": "stream",
     "text": [
      "20\n"
     ]
    }
   ],
   "source": [
    "print(10 and 20)\n",
    "# print(true and true)\n",
    "# prints the last true"
   ]
  },
  {
   "cell_type": "code",
   "execution_count": 67,
   "id": "232c765e",
   "metadata": {},
   "outputs": [
    {
     "name": "stdout",
     "output_type": "stream",
     "text": [
      "0\n"
     ]
    }
   ],
   "source": [
    "print(0 and 20)\n",
    "# print(false and true)\n",
    "# prints false"
   ]
  },
  {
   "cell_type": "code",
   "execution_count": 68,
   "id": "c4eb4b45",
   "metadata": {},
   "outputs": [
    {
     "name": "stdout",
     "output_type": "stream",
     "text": [
      "0\n"
     ]
    }
   ],
   "source": [
    "print(20 and 0)\n",
    "# print(false and true)\n",
    "# prints false"
   ]
  },
  {
   "cell_type": "code",
   "execution_count": 69,
   "id": "6ba76402",
   "metadata": {},
   "outputs": [
    {
     "name": "stdout",
     "output_type": "stream",
     "text": [
      "0\n"
     ]
    }
   ],
   "source": [
    "print(0 and 0)\n",
    "# print(false and false)\n",
    "# prints the first false"
   ]
  },
  {
   "cell_type": "code",
   "execution_count": 70,
   "id": "7922768b",
   "metadata": {},
   "outputs": [
    {
     "name": "stdout",
     "output_type": "stream",
     "text": [
      "10\n"
     ]
    }
   ],
   "source": [
    "print(10 or 20)\n",
    "# print(true or true)\n",
    "# prints the first true"
   ]
  },
  {
   "cell_type": "code",
   "execution_count": 71,
   "id": "02701425",
   "metadata": {},
   "outputs": [
    {
     "name": "stdout",
     "output_type": "stream",
     "text": [
      "20\n"
     ]
    }
   ],
   "source": [
    "print(20 or 0)\n",
    "# print(true or false)\n",
    "# prints true"
   ]
  },
  {
   "cell_type": "code",
   "execution_count": 72,
   "id": "6d96cfaa",
   "metadata": {},
   "outputs": [
    {
     "name": "stdout",
     "output_type": "stream",
     "text": [
      "20\n"
     ]
    }
   ],
   "source": [
    "print(0 or 20)\n",
    "# print(false or true)\n",
    "# prints true"
   ]
  },
  {
   "cell_type": "code",
   "execution_count": 73,
   "id": "07049924",
   "metadata": {},
   "outputs": [
    {
     "name": "stdout",
     "output_type": "stream",
     "text": [
      "0\n"
     ]
    }
   ],
   "source": [
    "print(0 or 0)\n",
    "# print(false or false)\n",
    "# prints false"
   ]
  },
  {
   "cell_type": "code",
   "execution_count": 74,
   "id": "788dbfce",
   "metadata": {},
   "outputs": [
    {
     "name": "stdout",
     "output_type": "stream",
     "text": [
      "False\n"
     ]
    }
   ],
   "source": [
    "print(not 10)\n",
    "# print(not True)"
   ]
  },
  {
   "cell_type": "code",
   "execution_count": 75,
   "id": "e718af34",
   "metadata": {},
   "outputs": [
    {
     "name": "stdout",
     "output_type": "stream",
     "text": [
      "True\n"
     ]
    }
   ],
   "source": [
    "print(not 0)\n",
    "# print(not False)"
   ]
  },
  {
   "cell_type": "markdown",
   "id": "01c012a5",
   "metadata": {},
   "source": [
    "### Bitwise Operators.\n",
    "### Do below operations on the values provided below:-"
   ]
  },
  {
   "cell_type": "code",
   "execution_count": 82,
   "id": "1bca273a",
   "metadata": {},
   "outputs": [
    {
     "name": "stdout",
     "output_type": "stream",
     "text": [
      "0b1010\n",
      "0b10100\n",
      "0\n"
     ]
    }
   ],
   "source": [
    "# Bitwise and(&)on 10,20\n",
    "print(bin(10))\n",
    "print(bin(20))\n",
    "print(10 & 20)"
   ]
  },
  {
   "cell_type": "code",
   "execution_count": 87,
   "id": "d1e9dcbd",
   "metadata": {},
   "outputs": [
    {
     "name": "stdout",
     "output_type": "stream",
     "text": [
      "0b1010\n",
      "0b10100\n",
      "30\n"
     ]
    }
   ],
   "source": [
    "#Bitwise or(|) on 10,20\n",
    "print(bin(10))\n",
    "print(bin(20))\n",
    "#int(0b11110)\n",
    "print(10 | 20)"
   ]
  },
  {
   "cell_type": "code",
   "execution_count": 88,
   "id": "73ee4bf3",
   "metadata": {},
   "outputs": [
    {
     "name": "stdout",
     "output_type": "stream",
     "text": [
      "0b1010\n",
      "0b10100\n",
      "30\n"
     ]
    }
   ],
   "source": [
    "#Bitwise(^) on 10,20\n",
    "print(bin(10))\n",
    "print(bin(20))\n",
    "#int(0b11110)\n",
    "print(10^20)"
   ]
  },
  {
   "cell_type": "code",
   "execution_count": 91,
   "id": "6e35dbb5",
   "metadata": {},
   "outputs": [
    {
     "name": "stdout",
     "output_type": "stream",
     "text": [
      "-11\n"
     ]
    }
   ],
   "source": [
    "#Bitwise negation(~) on 10\n",
    "\n",
    "print(~10)"
   ]
  },
  {
   "cell_type": "code",
   "execution_count": 9,
   "id": "80921ee5",
   "metadata": {},
   "outputs": [
    {
     "name": "stdout",
     "output_type": "stream",
     "text": [
      "40\n"
     ]
    }
   ],
   "source": [
    "#Bitwise left shift on 10,2\n",
    "print(10<<2)"
   ]
  },
  {
   "cell_type": "code",
   "execution_count": 8,
   "id": "23966428",
   "metadata": {},
   "outputs": [
    {
     "name": "stdout",
     "output_type": "stream",
     "text": [
      "0b1010\n",
      "40\n",
      "40\n"
     ]
    }
   ],
   "source": [
    "# Checking the above output manually\n",
    "print(bin(10))\n",
    "#0000000000000000000000000000001010\n",
    "#00000000000000000000000000101000\n",
    "print(int(0b101000))\n"
   ]
  },
  {
   "cell_type": "code",
   "execution_count": 10,
   "id": "35f681a3",
   "metadata": {},
   "outputs": [
    {
     "name": "stdout",
     "output_type": "stream",
     "text": [
      "2\n"
     ]
    }
   ],
   "source": [
    "#Bitwise right shift on 10,2\n",
    "\n",
    "print(10>>2)"
   ]
  },
  {
   "cell_type": "code",
   "execution_count": 11,
   "id": "71d61aed",
   "metadata": {},
   "outputs": [
    {
     "name": "stdout",
     "output_type": "stream",
     "text": [
      "0b1010\n",
      "2\n"
     ]
    }
   ],
   "source": [
    "# Checking the above output manually\n",
    "print(bin(10))\n",
    "#0000000000000000000000000000001010\n",
    "#0000000000000000000000000000000010\n",
    "print(int(0b10))"
   ]
  },
  {
   "cell_type": "markdown",
   "id": "7d967ac6",
   "metadata": {},
   "source": [
    "### Q. What is the output of expression inside print statement. Cross check before running the program."
   ]
  },
  {
   "cell_type": "code",
   "execution_count": 16,
   "id": "effa8033",
   "metadata": {},
   "outputs": [
    {
     "name": "stdout",
     "output_type": "stream",
     "text": [
      "140717182063688\n",
      "140717182063688\n",
      "True\n"
     ]
    }
   ],
   "source": [
    "a = 10\n",
    "b = 10\n",
    "print(id(a))\n",
    "print(id(b))\n",
    "print(a is b)"
   ]
  },
  {
   "cell_type": "code",
   "execution_count": 17,
   "id": "db2d594d",
   "metadata": {},
   "outputs": [
    {
     "name": "stdout",
     "output_type": "stream",
     "text": [
      "False\n"
     ]
    }
   ],
   "source": [
    "print(a is not b)\n"
   ]
  },
  {
   "cell_type": "code",
   "execution_count": 18,
   "id": "2ff3cfde",
   "metadata": {},
   "outputs": [
    {
     "name": "stdout",
     "output_type": "stream",
     "text": [
      "1909903572048\n",
      "1909903572400\n",
      "False\n"
     ]
    }
   ],
   "source": [
    "a = 1000\n",
    "b = 1000\n",
    "print(id(a))\n",
    "print(id(b))\n",
    "print(a is b)"
   ]
  },
  {
   "cell_type": "code",
   "execution_count": 19,
   "id": "5f7ffd2a",
   "metadata": {},
   "outputs": [
    {
     "name": "stdout",
     "output_type": "stream",
     "text": [
      "True\n"
     ]
    }
   ],
   "source": [
    "print(a is not b)\n"
   ]
  },
  {
   "cell_type": "markdown",
   "id": "678cb3cf",
   "metadata": {},
   "source": [
    "### Q. What is the output of expression inside print statement. Cross check before running the program."
   ]
  },
  {
   "cell_type": "code",
   "execution_count": 81,
   "id": "03ca3eba",
   "metadata": {},
   "outputs": [
    {
     "data": {
      "text/plain": [
       "20"
      ]
     },
     "execution_count": 81,
     "metadata": {},
     "output_type": "execute_result"
    }
   ],
   "source": [
    "# #print(10+(10*32)//2**5&20+(~(-10))<<2)\n",
    "# #(10+(10*32)//2**5&20+(~(-10))<<2)\n",
    "\n",
    "# #10*32\n",
    "# #10+320//32&20+(~(-10))<<2\n",
    "#2**5\n",
    "#320//32\n",
    "#10+10&20+9<<2\n",
    "#20&29<<2\n",
    "20&116\n",
    "\n"
   ]
  },
  {
   "cell_type": "code",
   "execution_count": 31,
   "id": "15701170",
   "metadata": {},
   "outputs": [
    {
     "name": "stdout",
     "output_type": "stream",
     "text": [
      "20\n"
     ]
    }
   ],
   "source": [
    "print(10+(10*32)//2**5&20+(~(-10))<<2)"
   ]
  },
  {
   "cell_type": "markdown",
   "id": "4eb0493b",
   "metadata": {},
   "source": [
    "## Q. Membership operation\n",
    "## in, not in are two membership operators and it returns boolean value"
   ]
  },
  {
   "cell_type": "code",
   "execution_count": 41,
   "id": "46851683",
   "metadata": {},
   "outputs": [
    {
     "name": "stdout",
     "output_type": "stream",
     "text": [
      "True\n"
     ]
    }
   ],
   "source": [
    "print('2' in 'Python2.7.8')\n"
   ]
  },
  {
   "cell_type": "code",
   "execution_count": 42,
   "id": "3fd62a9e",
   "metadata": {},
   "outputs": [
    {
     "name": "stdout",
     "output_type": "stream",
     "text": [
      "True\n"
     ]
    }
   ],
   "source": [
    "print(10 in [10,10.20,10+20j,'Python'])\n"
   ]
  },
  {
   "cell_type": "code",
   "execution_count": 43,
   "id": "09d5f5d2",
   "metadata": {},
   "outputs": [
    {
     "name": "stdout",
     "output_type": "stream",
     "text": [
      "True\n"
     ]
    }
   ],
   "source": [
    "print(10 in (10,10.20,10+20j,'Python'))\n"
   ]
  },
  {
   "cell_type": "code",
   "execution_count": 44,
   "id": "86aa34fa",
   "metadata": {},
   "outputs": [
    {
     "name": "stdout",
     "output_type": "stream",
     "text": [
      "True\n"
     ]
    }
   ],
   "source": [
    "print(2 in {1,2,3})\n"
   ]
  },
  {
   "cell_type": "code",
   "execution_count": 45,
   "id": "063234c6",
   "metadata": {},
   "outputs": [
    {
     "name": "stdout",
     "output_type": "stream",
     "text": [
      "True\n"
     ]
    }
   ],
   "source": [
    "print(3 in {1:100, 2:200, 3:300})\n"
   ]
  },
  {
   "cell_type": "code",
   "execution_count": 48,
   "id": "d2b1b733",
   "metadata": {},
   "outputs": [
    {
     "name": "stdout",
     "output_type": "stream",
     "text": [
      "True\n"
     ]
    }
   ],
   "source": [
    "print(10 in range(20))\n"
   ]
  },
  {
   "cell_type": "markdown",
   "id": "891f6f5f",
   "metadata": {},
   "source": [
    "### Q. An integer can be represented in binary, octal or hexadecimal form.\n",
    "### Declare one binary, one octal and one hexadecimal value and store them\n",
    "### in three different variables.\n"
   ]
  },
  {
   "cell_type": "code",
   "execution_count": 53,
   "id": "f9eb739e",
   "metadata": {},
   "outputs": [
    {
     "name": "stdout",
     "output_type": "stream",
     "text": [
      "The binaryvalue of number 10: 0b1010\n",
      "The octal value of number 10: 0o12\n",
      "The hexadecimal value of number 10: 0xa\n"
     ]
    }
   ],
   "source": [
    "a=10\n",
    "print(f'The binaryvalue of number {a}:',bin(a))\n",
    "print(f'The octal value of number {a}:',oct(a))\n",
    "print(f'The hexadecimal value of number {a}:',hex(a))"
   ]
  },
  {
   "cell_type": "code",
   "execution_count": null,
   "id": "ff5f261b",
   "metadata": {},
   "outputs": [],
   "source": [
    "binVar=0b1010\n",
    "octVar=0o12\n",
    "hexVar=0xa"
   ]
  },
  {
   "cell_type": "markdown",
   "id": "1dd7084c",
   "metadata": {},
   "source": [
    "### Convert 9876 to its binary, octal and hexadecimal equivalent and print their corresponding value.\n"
   ]
  },
  {
   "cell_type": "code",
   "execution_count": 54,
   "id": "c11e7c82",
   "metadata": {},
   "outputs": [
    {
     "name": "stdout",
     "output_type": "stream",
     "text": [
      "The binaryvalue of number 9876: 0b10011010010100\n",
      "The octal value of number 9876: 0o23224\n",
      "The hexadecimal value of number 9876: 0x2694\n"
     ]
    }
   ],
   "source": [
    "a=9876\n",
    "print(f'The binaryvalue of number {a}:',bin(a))\n",
    "print(f'The octal value of number {a}:',oct(a))\n",
    "print(f'The hexadecimal value of number {a}:',hex(a))"
   ]
  },
  {
   "cell_type": "markdown",
   "id": "962fbfec",
   "metadata": {},
   "source": [
    "#### Q. What will be the output of following:-"
   ]
  },
  {
   "cell_type": "code",
   "execution_count": 55,
   "id": "9a2fe8f3",
   "metadata": {},
   "outputs": [
    {
     "name": "stdout",
     "output_type": "stream",
     "text": [
      "80\n"
     ]
    }
   ],
   "source": [
    "a = 0b1010000\n",
    "print(a)"
   ]
  },
  {
   "cell_type": "code",
   "execution_count": 56,
   "id": "de2f1efa",
   "metadata": {},
   "outputs": [
    {
     "name": "stdout",
     "output_type": "stream",
     "text": [
      "3870\n"
     ]
    }
   ],
   "source": [
    "b = 0o7436\n",
    "print(b)"
   ]
  },
  {
   "cell_type": "code",
   "execution_count": 57,
   "id": "d6303bee",
   "metadata": {},
   "outputs": [
    {
     "name": "stdout",
     "output_type": "stream",
     "text": [
      "64222\n"
     ]
    }
   ],
   "source": [
    "c = 0xfade\n",
    "print(c)\n"
   ]
  },
  {
   "cell_type": "code",
   "execution_count": 58,
   "id": "c5ecd99e",
   "metadata": {},
   "outputs": [
    {
     "name": "stdout",
     "output_type": "stream",
     "text": [
      "0b1010000\n"
     ]
    }
   ],
   "source": [
    "print(bin(80))\n"
   ]
  },
  {
   "cell_type": "code",
   "execution_count": 59,
   "id": "bf8cd204",
   "metadata": {},
   "outputs": [
    {
     "name": "stdout",
     "output_type": "stream",
     "text": [
      "0o7436\n"
     ]
    }
   ],
   "source": [
    "print(oct(3870))\n"
   ]
  },
  {
   "cell_type": "code",
   "execution_count": 60,
   "id": "c74b9308",
   "metadata": {},
   "outputs": [
    {
     "name": "stdout",
     "output_type": "stream",
     "text": [
      "0xfade\n"
     ]
    }
   ],
   "source": [
    "print(hex(64222))\n"
   ]
  },
  {
   "cell_type": "code",
   "execution_count": 61,
   "id": "dae3b386",
   "metadata": {},
   "outputs": [
    {
     "name": "stdout",
     "output_type": "stream",
     "text": [
      "0b1010000\n"
     ]
    }
   ],
   "source": [
    "print(bin(0b1010000))\n"
   ]
  },
  {
   "cell_type": "code",
   "execution_count": 68,
   "id": "6ccd0a57",
   "metadata": {},
   "outputs": [
    {
     "name": "stdout",
     "output_type": "stream",
     "text": [
      "0b1111101011011110\n"
     ]
    },
    {
     "data": {
      "text/plain": [
       "'0b1111101011011110'"
      ]
     },
     "execution_count": 68,
     "metadata": {},
     "output_type": "execute_result"
    }
   ],
   "source": [
    "print(bin(0xfade))\n",
    "#int(0xfade)\n",
    "#bin(64222)"
   ]
  },
  {
   "cell_type": "code",
   "execution_count": 63,
   "id": "4965f379",
   "metadata": {},
   "outputs": [
    {
     "name": "stdout",
     "output_type": "stream",
     "text": [
      "0o175336\n"
     ]
    }
   ],
   "source": [
    "print(oct(0xfade))\n"
   ]
  },
  {
   "cell_type": "code",
   "execution_count": 64,
   "id": "f8ca7644",
   "metadata": {},
   "outputs": [
    {
     "name": "stdout",
     "output_type": "stream",
     "text": [
      "0o7436\n"
     ]
    }
   ],
   "source": [
    "print(oct(0o7436))\n"
   ]
  },
  {
   "cell_type": "code",
   "execution_count": 65,
   "id": "9f0b641a",
   "metadata": {},
   "outputs": [
    {
     "name": "stdout",
     "output_type": "stream",
     "text": [
      "0x50\n"
     ]
    }
   ],
   "source": [
    "print(hex(0b1010000))\n"
   ]
  },
  {
   "cell_type": "code",
   "execution_count": 66,
   "id": "3093354f",
   "metadata": {},
   "outputs": [
    {
     "name": "stdout",
     "output_type": "stream",
     "text": [
      "0xfade\n"
     ]
    }
   ],
   "source": [
    "print(hex(0xfade))"
   ]
  },
  {
   "cell_type": "markdown",
   "id": "853ff489",
   "metadata": {},
   "source": [
    "# Float Assignment"
   ]
  },
  {
   "cell_type": "code",
   "execution_count": 1,
   "id": "19264f0b",
   "metadata": {},
   "outputs": [
    {
     "name": "stdout",
     "output_type": "stream",
     "text": [
      "<class 'float'> 1997294001648\n"
     ]
    }
   ],
   "source": [
    "#Declare a float value and store it in a variable. Check the type and print the id of the same.\n",
    "num=10.5\n",
    "print(type(num),id(num))"
   ]
  },
  {
   "cell_type": "markdown",
   "id": "01398896",
   "metadata": {},
   "source": [
    "## Q. Arithmetic Operations on float\n",
    "#### Take two different float values.Store them in two different variables.Do below operations on them:-\n"
   ]
  },
  {
   "cell_type": "code",
   "execution_count": 7,
   "id": "91fa979b",
   "metadata": {},
   "outputs": [
    {
     "name": "stdout",
     "output_type": "stream",
     "text": [
      "The sum of 20.8 and 10.5 is: 31.3\n"
     ]
    }
   ],
   "source": [
    "#Find sum of both numbers\n",
    "num1=20.8\n",
    "num2=10.5\n",
    "sum=num1+num2\n",
    "print(f'The sum of {num1} and {num2} is:',sum)"
   ]
  },
  {
   "cell_type": "code",
   "execution_count": 8,
   "id": "a1f86970",
   "metadata": {},
   "outputs": [
    {
     "name": "stdout",
     "output_type": "stream",
     "text": [
      "The difference 20.8 and 10.5 is: 10.3\n"
     ]
    }
   ],
   "source": [
    "#Find difference between them\n",
    "num1=20.8\n",
    "num2=10.5\n",
    "diff=num1-num2\n",
    "print(f'The difference {num1} and {num2} is:',diff)"
   ]
  },
  {
   "cell_type": "code",
   "execution_count": 9,
   "id": "78f924c3",
   "metadata": {},
   "outputs": [
    {
     "name": "stdout",
     "output_type": "stream",
     "text": [
      "The product of 20.8 and 10.5 is: 218.4\n"
     ]
    }
   ],
   "source": [
    "# Find the product of both numbers.\n",
    "num1=20.8\n",
    "num2=10.5\n",
    "prod=num1*num2\n",
    "print(f'The product of {num1} and {num2} is:',prod)"
   ]
  },
  {
   "cell_type": "code",
   "execution_count": 10,
   "id": "36667da9",
   "metadata": {},
   "outputs": [
    {
     "name": "stdout",
     "output_type": "stream",
     "text": [
      "The result of 20.8 divided by 10.5 is: 1.980952380952381\n"
     ]
    }
   ],
   "source": [
    "# Find value after dividing first num with second number\n",
    "num1=20.8\n",
    "num2=10.5\n",
    "div=num1/num2\n",
    "print(f'The result of {num1} divided by {num2} is:',div)"
   ]
  },
  {
   "cell_type": "code",
   "execution_count": 11,
   "id": "b7dfb7ac",
   "metadata": {},
   "outputs": [
    {
     "name": "stdout",
     "output_type": "stream",
     "text": [
      "The remainder when 20.8 is divided by 10.5 is: 10.3\n"
     ]
    }
   ],
   "source": [
    "# Find the remainder after dividing first number with second number\n",
    "num1=20.8\n",
    "num2=10.5\n",
    "remainder=num1%num2\n",
    "print(f'The remainder when {num1} is divided by {num2} is:',remainder)"
   ]
  },
  {
   "cell_type": "code",
   "execution_count": 12,
   "id": "227da6e7",
   "metadata": {},
   "outputs": [
    {
     "name": "stdout",
     "output_type": "stream",
     "text": [
      "The quotient when 20.8 is divided by 10.5 is: 1.0\n"
     ]
    }
   ],
   "source": [
    "# Find the quotient after dividing first number with second number\n",
    "num1=20.8\n",
    "num2=10.5\n",
    "quotient=num1//num2\n",
    "print(f'The quotient when {num1} is divided by {num2} is:',quotient)"
   ]
  },
  {
   "cell_type": "code",
   "execution_count": 13,
   "id": "c9c19b14",
   "metadata": {},
   "outputs": [
    {
     "name": "stdout",
     "output_type": "stream",
     "text": [
      "The result when 20.8 is raised to the power of 10.5 is: 69129754902828.766\n"
     ]
    }
   ],
   "source": [
    "# Find the result of the first num to the power of the second number.\n",
    "num1=20.8\n",
    "num2=10.5\n",
    "result=num1**num2\n",
    "print(f'The result when {num1} is raised to the power of {num2} is:',result)"
   ]
  },
  {
   "cell_type": "markdown",
   "id": "1e6c1bf9",
   "metadata": {},
   "source": [
    "# Q. Comparison Operators on float\n",
    "### Take two different float values.Store them in two different variables.Do below operations on them:-"
   ]
  },
  {
   "cell_type": "code",
   "execution_count": 14,
   "id": "08298b85",
   "metadata": {},
   "outputs": [],
   "source": [
    "# Compare the two numbers with below operator:-\n",
    "# Observe their output(return type should be boolean)"
   ]
  },
  {
   "cell_type": "code",
   "execution_count": 15,
   "id": "6ec5a79a",
   "metadata": {},
   "outputs": [
    {
     "name": "stdout",
     "output_type": "stream",
     "text": [
      "False <class 'bool'>\n"
     ]
    }
   ],
   "source": [
    "# Greater than, '>'\n",
    "num1=87.8\n",
    "num2=102.56\n",
    "isGreater=num1>num2\n",
    "print((isGreater),type(isGreater))"
   ]
  },
  {
   "cell_type": "code",
   "execution_count": 16,
   "id": "2c14191f",
   "metadata": {},
   "outputs": [
    {
     "name": "stdout",
     "output_type": "stream",
     "text": [
      "True <class 'bool'>\n"
     ]
    }
   ],
   "source": [
    "# Smaller than, '<'\n",
    "num1=87.8\n",
    "num2=102.56\n",
    "isSmaller=num1<num2\n",
    "print((isSmaller),type(isSmaller))"
   ]
  },
  {
   "cell_type": "code",
   "execution_count": 18,
   "id": "fb701fd7",
   "metadata": {},
   "outputs": [
    {
     "name": "stdout",
     "output_type": "stream",
     "text": [
      "False <class 'bool'>\n"
     ]
    }
   ],
   "source": [
    "# Greater than or equal to, '>='\n",
    "num1=87.8\n",
    "num2=102.56\n",
    "isGreaterEqual=num1>=num2\n",
    "print((isGreaterEqual),type(isGreaterEqual))"
   ]
  },
  {
   "cell_type": "code",
   "execution_count": 19,
   "id": "b12cb7ec",
   "metadata": {},
   "outputs": [
    {
     "name": "stdout",
     "output_type": "stream",
     "text": [
      "True <class 'bool'>\n"
     ]
    }
   ],
   "source": [
    "# Less than or equal to, '<='\n",
    "num1=87.8\n",
    "num2=102.56\n",
    "isLessEqual=num1<=num2\n",
    "print((isLessEqual),type(isLessEqual))"
   ]
  },
  {
   "cell_type": "markdown",
   "id": "43549f04",
   "metadata": {},
   "source": [
    "### Equality Operator\n",
    "### Take two different float values. Store them in two different variables. Equate them using equality operators (==, !=)"
   ]
  },
  {
   "cell_type": "code",
   "execution_count": 20,
   "id": "7d0dd0fa",
   "metadata": {},
   "outputs": [],
   "source": [
    "# Observe the output(return type should be boolean)"
   ]
  },
  {
   "cell_type": "code",
   "execution_count": 21,
   "id": "4db99737",
   "metadata": {},
   "outputs": [
    {
     "name": "stdout",
     "output_type": "stream",
     "text": [
      "False\n"
     ]
    }
   ],
   "source": [
    "num1=96.99\n",
    "num2=99.2\n",
    "print(num1==num2)"
   ]
  },
  {
   "cell_type": "code",
   "execution_count": 22,
   "id": "6914805a",
   "metadata": {},
   "outputs": [
    {
     "name": "stdout",
     "output_type": "stream",
     "text": [
      "True\n"
     ]
    }
   ],
   "source": [
    "num1=96.99\n",
    "num2=99.2\n",
    "print(num1!=num2)"
   ]
  },
  {
   "cell_type": "markdown",
   "id": "b9189bc5",
   "metadata": {},
   "source": [
    "# Q. Logical operators\n",
    "### Observe the output of below code.Cross check the output manually"
   ]
  },
  {
   "cell_type": "code",
   "execution_count": 23,
   "id": "e03f1086",
   "metadata": {},
   "outputs": [
    {
     "name": "stdout",
     "output_type": "stream",
     "text": [
      "20.3\n"
     ]
    }
   ],
   "source": [
    "print(10.20 and 20.30)\n",
    "# print(true and true)\n",
    "# prints the last true"
   ]
  },
  {
   "cell_type": "code",
   "execution_count": 24,
   "id": "6ab61d95",
   "metadata": {},
   "outputs": [
    {
     "name": "stdout",
     "output_type": "stream",
     "text": [
      "0.0\n"
     ]
    }
   ],
   "source": [
    "print(0.0 and 20.30)\n",
    "# print(false and true)\n",
    "# prints false"
   ]
  },
  {
   "cell_type": "code",
   "execution_count": 25,
   "id": "128699a0",
   "metadata": {},
   "outputs": [
    {
     "name": "stdout",
     "output_type": "stream",
     "text": [
      "0.0\n"
     ]
    }
   ],
   "source": [
    "print(20.30 and 0.0)\n",
    "# print(true and false)\n",
    "# prints false"
   ]
  },
  {
   "cell_type": "code",
   "execution_count": 26,
   "id": "afc4a72e",
   "metadata": {},
   "outputs": [
    {
     "name": "stdout",
     "output_type": "stream",
     "text": [
      "0.0\n"
     ]
    }
   ],
   "source": [
    "print(0.0 and 0.0)\n",
    "# print(false and false)\n",
    "# prints the first false"
   ]
  },
  {
   "cell_type": "code",
   "execution_count": 27,
   "id": "cb62e869",
   "metadata": {},
   "outputs": [
    {
     "name": "stdout",
     "output_type": "stream",
     "text": [
      "10.2\n"
     ]
    }
   ],
   "source": [
    "print(10.20 or 20.30)\n",
    "# print(true or true)\n",
    "# prints the first true"
   ]
  },
  {
   "cell_type": "code",
   "execution_count": 28,
   "id": "7fff3c20",
   "metadata": {},
   "outputs": [
    {
     "name": "stdout",
     "output_type": "stream",
     "text": [
      "20.3\n"
     ]
    }
   ],
   "source": [
    "print(0.0 or 20.30)\n",
    "# print(false or true)\n",
    "# prints true"
   ]
  },
  {
   "cell_type": "code",
   "execution_count": 29,
   "id": "88f5e8fa",
   "metadata": {},
   "outputs": [
    {
     "name": "stdout",
     "output_type": "stream",
     "text": [
      "20.3\n"
     ]
    }
   ],
   "source": [
    "print(20.30 or 0.0)\n",
    "# print(true or false)\n",
    "# prints true"
   ]
  },
  {
   "cell_type": "code",
   "execution_count": 30,
   "id": "cf998e83",
   "metadata": {},
   "outputs": [
    {
     "name": "stdout",
     "output_type": "stream",
     "text": [
      "0.0\n"
     ]
    }
   ],
   "source": [
    "print(0.0 or 0.0)\n",
    "# print(false or false)\n",
    "# prints false"
   ]
  },
  {
   "cell_type": "code",
   "execution_count": 31,
   "id": "2b16a701",
   "metadata": {},
   "outputs": [
    {
     "name": "stdout",
     "output_type": "stream",
     "text": [
      "False\n"
     ]
    }
   ],
   "source": [
    "print(not 10.20)\n",
    "# print(not true)"
   ]
  },
  {
   "cell_type": "code",
   "execution_count": 32,
   "id": "b8511969",
   "metadata": {},
   "outputs": [
    {
     "name": "stdout",
     "output_type": "stream",
     "text": [
      "True\n"
     ]
    }
   ],
   "source": [
    "print(not 0.0)\n",
    "# print(not false)"
   ]
  },
  {
   "cell_type": "markdown",
   "id": "5b635620",
   "metadata": {},
   "source": [
    "### Q. What is the output of expression inside print statement. Cross check before running the program."
   ]
  },
  {
   "cell_type": "code",
   "execution_count": 33,
   "id": "0187a571",
   "metadata": {},
   "outputs": [
    {
     "name": "stdout",
     "output_type": "stream",
     "text": [
      "1997293997776\n",
      "1997294005328\n",
      "False\n"
     ]
    }
   ],
   "source": [
    "a = 10.20\n",
    "b = 10.20\n",
    "print(id(a))\n",
    "print(id(b))\n",
    "print(a is b)\n"
   ]
  },
  {
   "cell_type": "code",
   "execution_count": 34,
   "id": "34d53bb8",
   "metadata": {},
   "outputs": [
    {
     "name": "stdout",
     "output_type": "stream",
     "text": [
      "True\n"
     ]
    }
   ],
   "source": [
    "print(a is not b) "
   ]
  },
  {
   "cell_type": "markdown",
   "id": "c41f4061",
   "metadata": {},
   "source": [
    "# Bitwise operation is not applicable between instances of float.\n",
    "#### Q.Why the Id of float values are different when the same value is assigned to two different variables"
   ]
  },
  {
   "cell_type": "code",
   "execution_count": 39,
   "id": "d20872ff",
   "metadata": {},
   "outputs": [
    {
     "name": "stdout",
     "output_type": "stream",
     "text": [
      "The id of num1 is 1997307281360\n",
      "The id of num2 is 1997307280880\n",
      "The id of num3 is 1997307281360\n"
     ]
    }
   ],
   "source": [
    "num1=10.5\n",
    "num2=10.5\n",
    "print(f'The id of num1 is',id(num1))\n",
    "print(f'The id of num2 is',id(num2))\n",
    "num3=num1\n",
    "print(f'The id of num3 is',id(num3))"
   ]
  },
  {
   "cell_type": "markdown",
   "id": "af628c5b",
   "metadata": {},
   "source": [
    "This shows Float does not support object reusability"
   ]
  },
  {
   "cell_type": "markdown",
   "id": "def4bcc5",
   "metadata": {},
   "source": [
    "# Q. Membership operation\n",
    "### in, not in are two membership operators and it returns boolean value"
   ]
  },
  {
   "cell_type": "code",
   "execution_count": 41,
   "id": "45d7bf95",
   "metadata": {},
   "outputs": [
    {
     "name": "stdout",
     "output_type": "stream",
     "text": [
      "True\n"
     ]
    }
   ],
   "source": [
    "print('2.7' in 'Python2.7.8')"
   ]
  },
  {
   "cell_type": "code",
   "execution_count": 42,
   "id": "8f5d5ee0",
   "metadata": {},
   "outputs": [
    {
     "name": "stdout",
     "output_type": "stream",
     "text": [
      "True\n"
     ]
    }
   ],
   "source": [
    "print(10.20 in [10,10.20,10+20j,'Python'])\n"
   ]
  },
  {
   "cell_type": "code",
   "execution_count": 43,
   "id": "8a27a868",
   "metadata": {},
   "outputs": [
    {
     "name": "stdout",
     "output_type": "stream",
     "text": [
      "True\n"
     ]
    }
   ],
   "source": [
    "print(10.20 in (10,10.20,10+20j,'Python'))"
   ]
  },
  {
   "cell_type": "code",
   "execution_count": 44,
   "id": "e1ecc520",
   "metadata": {},
   "outputs": [
    {
     "name": "stdout",
     "output_type": "stream",
     "text": [
      "True\n"
     ]
    }
   ],
   "source": [
    "print(20.30 in {1,20.30,30+40j})"
   ]
  },
  {
   "cell_type": "code",
   "execution_count": 45,
   "id": "e831c065",
   "metadata": {},
   "outputs": [
    {
     "name": "stdout",
     "output_type": "stream",
     "text": [
      "True\n"
     ]
    }
   ],
   "source": [
    "print(2.3 in {1:100, 2.3:200, 30+40j:300})"
   ]
  },
  {
   "cell_type": "code",
   "execution_count": 46,
   "id": "a414c0b7",
   "metadata": {},
   "outputs": [
    {
     "name": "stdout",
     "output_type": "stream",
     "text": [
      "True\n"
     ]
    }
   ],
   "source": [
    "print(10 in range(20))"
   ]
  },
  {
   "cell_type": "markdown",
   "id": "2cfe9915",
   "metadata": {},
   "source": [
    "# Complex Assignment"
   ]
  },
  {
   "cell_type": "code",
   "execution_count": 47,
   "id": "ba8a4509",
   "metadata": {},
   "outputs": [
    {
     "name": "stdout",
     "output_type": "stream",
     "text": [
      "(3+5j) <class 'complex'>\n"
     ]
    }
   ],
   "source": [
    "# Q. Declare a complex number and store it in a variable.Check the type and print the id of the same.\n",
    "num=3+5j\n",
    "print(num,type(num))"
   ]
  },
  {
   "cell_type": "markdown",
   "id": "3f6d52c1",
   "metadata": {},
   "source": [
    "# Q. Arithmetic Operations on complex\n",
    "### Take two different complex values.Store them in two different variables.Do below operations on them:-"
   ]
  },
  {
   "cell_type": "code",
   "execution_count": 48,
   "id": "4898771b",
   "metadata": {},
   "outputs": [
    {
     "name": "stdout",
     "output_type": "stream",
     "text": [
      "The sum of (3+5j) and (10+4j) is: (13+9j)\n"
     ]
    }
   ],
   "source": [
    "#Find sum of both numbers\n",
    "num1=3+5j\n",
    "num2=10+4j\n",
    "sum=num1+num2\n",
    "print(f'The sum of {num1} and {num2} is:',sum)"
   ]
  },
  {
   "cell_type": "code",
   "execution_count": 49,
   "id": "dd701171",
   "metadata": {},
   "outputs": [
    {
     "name": "stdout",
     "output_type": "stream",
     "text": [
      "The difference of (3+5j) and (10+4j) is: (-7+1j)\n"
     ]
    }
   ],
   "source": [
    "#Find difference between them\n",
    "num1=3+5j\n",
    "num2=10+4j\n",
    "diff=num1-num2\n",
    "print(f'The difference of {num1} and {num2} is:',diff)"
   ]
  },
  {
   "cell_type": "code",
   "execution_count": 52,
   "id": "e6c99484",
   "metadata": {},
   "outputs": [
    {
     "name": "stdout",
     "output_type": "stream",
     "text": [
      "The product of (3+5j) and (10+4j) is: (10+62j)\n"
     ]
    }
   ],
   "source": [
    "#Find the product of both numbers.\n",
    "num1=3+5j\n",
    "num2=10+4j\n",
    "prod=num1*num2\n",
    "print(f'The product of {num1} and {num2} is:',prod)"
   ]
  },
  {
   "cell_type": "code",
   "execution_count": 53,
   "id": "66f6d9f7",
   "metadata": {},
   "outputs": [
    {
     "name": "stdout",
     "output_type": "stream",
     "text": [
      "The result of dividing  (3+5j) by (10+4j) is: (0.4310344827586207+0.3275862068965517j)\n"
     ]
    }
   ],
   "source": [
    "#Find value after dividing first num with second number\n",
    "num1=3+5j\n",
    "num2=10+4j\n",
    "div=num1/num2\n",
    "print(f'The result of dividing {num1} by {num2} is:',div)"
   ]
  },
  {
   "cell_type": "code",
   "execution_count": 54,
   "id": "04215e12",
   "metadata": {},
   "outputs": [
    {
     "name": "stdout",
     "output_type": "stream",
     "text": [
      "The result when (3+5j) is raised to the power of (10+4j) is: (57226.395333070155-734739.5159796773j)\n"
     ]
    }
   ],
   "source": [
    "#Find the result of the first num to the power of the second number.\n",
    "num1=3+5j\n",
    "num2=10+4j\n",
    "result=num1**num2\n",
    "print(f'The result when {num1} is raised to the power of {num2} is:',result)"
   ]
  },
  {
   "cell_type": "markdown",
   "id": "f20dd1f8",
   "metadata": {},
   "source": [
    "### Comparison Operation not applicable between instance of complex values.\n",
    "### Object reusability concept is not applicable on complex number"
   ]
  },
  {
   "cell_type": "markdown",
   "id": "7dc666e5",
   "metadata": {},
   "source": [
    "### Equality Operator\n",
    "### Take two different complex values. Store them in two different variables. Equate them using equality operators (==, !=)"
   ]
  },
  {
   "cell_type": "code",
   "execution_count": 55,
   "id": "6824bd3e",
   "metadata": {},
   "outputs": [],
   "source": [
    "# Observe the output(return type should be boolean)"
   ]
  },
  {
   "cell_type": "code",
   "execution_count": 56,
   "id": "208a7685",
   "metadata": {},
   "outputs": [
    {
     "name": "stdout",
     "output_type": "stream",
     "text": [
      "False\n"
     ]
    }
   ],
   "source": [
    "num1=3+5j\n",
    "num2=10+4j\n",
    "print(num1==num2)"
   ]
  },
  {
   "cell_type": "code",
   "execution_count": 57,
   "id": "6d02de79",
   "metadata": {},
   "outputs": [
    {
     "name": "stdout",
     "output_type": "stream",
     "text": [
      "True\n"
     ]
    }
   ],
   "source": [
    "num1=3+5j\n",
    "num2=10+4j\n",
    "print(num1!=num2)"
   ]
  },
  {
   "cell_type": "markdown",
   "id": "82b5c63d",
   "metadata": {},
   "source": [
    "# Q. Logical operators\n",
    "### Observe the output of below code.Cross check the output manually"
   ]
  },
  {
   "cell_type": "code",
   "execution_count": 58,
   "id": "200fdf3b",
   "metadata": {},
   "outputs": [
    {
     "name": "stdout",
     "output_type": "stream",
     "text": [
      "(20+30j)\n"
     ]
    }
   ],
   "source": [
    "print(10+20j and 20+30j)"
   ]
  },
  {
   "cell_type": "code",
   "execution_count": 59,
   "id": "5727a302",
   "metadata": {},
   "outputs": [
    {
     "name": "stdout",
     "output_type": "stream",
     "text": [
      "0j\n"
     ]
    }
   ],
   "source": [
    "print(0+0j and 20+30j)"
   ]
  },
  {
   "cell_type": "code",
   "execution_count": 60,
   "id": "25455fc3",
   "metadata": {},
   "outputs": [
    {
     "name": "stdout",
     "output_type": "stream",
     "text": [
      "0j\n"
     ]
    }
   ],
   "source": [
    "print(20+30j and 0+0j)"
   ]
  },
  {
   "cell_type": "code",
   "execution_count": 61,
   "id": "f3ff2d59",
   "metadata": {},
   "outputs": [
    {
     "name": "stdout",
     "output_type": "stream",
     "text": [
      "0j\n"
     ]
    }
   ],
   "source": [
    "print(0+0j and 0+0j)\n"
   ]
  },
  {
   "cell_type": "code",
   "execution_count": 62,
   "id": "36020fa4",
   "metadata": {},
   "outputs": [
    {
     "name": "stdout",
     "output_type": "stream",
     "text": [
      "(10+20j)\n"
     ]
    }
   ],
   "source": [
    "print(10+20j or 20+30j)"
   ]
  },
  {
   "cell_type": "code",
   "execution_count": 63,
   "id": "03c542f2",
   "metadata": {},
   "outputs": [
    {
     "name": "stdout",
     "output_type": "stream",
     "text": [
      "(20+30j)\n"
     ]
    }
   ],
   "source": [
    "print(0+0j or 20+30j)"
   ]
  },
  {
   "cell_type": "code",
   "execution_count": 64,
   "id": "15d891ad",
   "metadata": {},
   "outputs": [
    {
     "name": "stdout",
     "output_type": "stream",
     "text": [
      "(20+30j)\n"
     ]
    }
   ],
   "source": [
    "print(20+30j or 0+0j)"
   ]
  },
  {
   "cell_type": "code",
   "execution_count": 65,
   "id": "6d05215f",
   "metadata": {},
   "outputs": [
    {
     "name": "stdout",
     "output_type": "stream",
     "text": [
      "0j\n"
     ]
    }
   ],
   "source": [
    "print(0+0j or 0+0j)"
   ]
  },
  {
   "cell_type": "code",
   "execution_count": 66,
   "id": "4c85bfbd",
   "metadata": {},
   "outputs": [
    {
     "name": "stdout",
     "output_type": "stream",
     "text": [
      "False\n"
     ]
    }
   ],
   "source": [
    "print(not 10+20j)\n"
   ]
  },
  {
   "cell_type": "code",
   "execution_count": 67,
   "id": "b891e01d",
   "metadata": {},
   "outputs": [
    {
     "name": "stdout",
     "output_type": "stream",
     "text": [
      "True\n"
     ]
    }
   ],
   "source": [
    "print(not 0+0j)"
   ]
  },
  {
   "cell_type": "markdown",
   "id": "7dc3a891",
   "metadata": {},
   "source": [
    "### Q. What is the output of expression inside print statement. Cross check before running the program."
   ]
  },
  {
   "cell_type": "code",
   "execution_count": 68,
   "id": "5f41b3de",
   "metadata": {},
   "outputs": [
    {
     "name": "stdout",
     "output_type": "stream",
     "text": [
      "1997308494832\n",
      "1997308494000\n",
      "False\n"
     ]
    }
   ],
   "source": [
    "a = 10+20j\n",
    "b = 10+20j\n",
    "print(id(a))\n",
    "print(id(b))\n",
    "print(a is b)\n"
   ]
  },
  {
   "cell_type": "code",
   "execution_count": 69,
   "id": "a837485f",
   "metadata": {},
   "outputs": [
    {
     "name": "stdout",
     "output_type": "stream",
     "text": [
      "True\n"
     ]
    }
   ],
   "source": [
    "print(a is not b)"
   ]
  },
  {
   "cell_type": "markdown",
   "id": "da387480",
   "metadata": {},
   "source": [
    "# Q. Membership operation\n",
    "### in, not in are two membership operators and it returns boolean value"
   ]
  },
  {
   "cell_type": "code",
   "execution_count": 70,
   "id": "c8879155",
   "metadata": {},
   "outputs": [
    {
     "name": "stdout",
     "output_type": "stream",
     "text": [
      "True\n"
     ]
    }
   ],
   "source": [
    "print(10+20j in [10,10.20,10+20j,'Python'])"
   ]
  },
  {
   "cell_type": "code",
   "execution_count": 71,
   "id": "b726f788",
   "metadata": {},
   "outputs": [
    {
     "name": "stdout",
     "output_type": "stream",
     "text": [
      "True\n"
     ]
    }
   ],
   "source": [
    "print(10+20j in (10,10.20,10+20j,'Python'))"
   ]
  },
  {
   "cell_type": "code",
   "execution_count": 72,
   "id": "7d35b604",
   "metadata": {},
   "outputs": [
    {
     "name": "stdout",
     "output_type": "stream",
     "text": [
      "True\n"
     ]
    }
   ],
   "source": [
    "print(30+40j in {1,20.30,30+40j})"
   ]
  },
  {
   "cell_type": "code",
   "execution_count": 73,
   "id": "fe6bc699",
   "metadata": {},
   "outputs": [
    {
     "name": "stdout",
     "output_type": "stream",
     "text": [
      "True\n"
     ]
    }
   ],
   "source": [
    "print(30+40j in {1:100, 2.3:200, 30+40j:300})"
   ]
  },
  {
   "cell_type": "code",
   "execution_count": 74,
   "id": "18271ac6",
   "metadata": {},
   "outputs": [
    {
     "name": "stdout",
     "output_type": "stream",
     "text": [
      "True\n"
     ]
    }
   ],
   "source": [
    "print(10 in range(20))"
   ]
  },
  {
   "cell_type": "markdown",
   "id": "aa1c189b",
   "metadata": {},
   "source": [
    "# Boolean Assignment"
   ]
  },
  {
   "cell_type": "markdown",
   "id": "85fedf37",
   "metadata": {},
   "source": [
    "#### Q. Declare a boolean value and store it in a variable.Check the type and print the id of the same."
   ]
  },
  {
   "cell_type": "code",
   "execution_count": 76,
   "id": "79898da0",
   "metadata": {},
   "outputs": [
    {
     "name": "stdout",
     "output_type": "stream",
     "text": [
      "<class 'bool'> 140718053927456\n"
     ]
    }
   ],
   "source": [
    "val=True\n",
    "print(type(val),id(val))"
   ]
  },
  {
   "cell_type": "markdown",
   "id": "63016d15",
   "metadata": {},
   "source": [
    "# Q. Logical operators\n",
    "#### Observe the output of below code. Cross check the output manually\n"
   ]
  },
  {
   "cell_type": "code",
   "execution_count": 1,
   "id": "78fd445b",
   "metadata": {},
   "outputs": [
    {
     "name": "stdout",
     "output_type": "stream",
     "text": [
      "True\n"
     ]
    }
   ],
   "source": [
    "print(True and True)\n",
    "#prints True"
   ]
  },
  {
   "cell_type": "code",
   "execution_count": 2,
   "id": "2f9881a1",
   "metadata": {},
   "outputs": [
    {
     "name": "stdout",
     "output_type": "stream",
     "text": [
      "False\n"
     ]
    }
   ],
   "source": [
    "print(False and True)\n",
    "#prints False"
   ]
  },
  {
   "cell_type": "code",
   "execution_count": 3,
   "id": "43cc7fbc",
   "metadata": {},
   "outputs": [
    {
     "name": "stdout",
     "output_type": "stream",
     "text": [
      "False\n"
     ]
    }
   ],
   "source": [
    "print(True and False)\n",
    "\n",
    "#prints False"
   ]
  },
  {
   "cell_type": "code",
   "execution_count": 4,
   "id": "52093733",
   "metadata": {},
   "outputs": [
    {
     "name": "stdout",
     "output_type": "stream",
     "text": [
      "False\n"
     ]
    }
   ],
   "source": [
    "print(False and False)\n",
    "#prints False"
   ]
  },
  {
   "cell_type": "code",
   "execution_count": 5,
   "id": "ee5cb160",
   "metadata": {},
   "outputs": [
    {
     "name": "stdout",
     "output_type": "stream",
     "text": [
      "True\n"
     ]
    }
   ],
   "source": [
    "print(True or True)"
   ]
  },
  {
   "cell_type": "code",
   "execution_count": 6,
   "id": "253ed398",
   "metadata": {},
   "outputs": [
    {
     "name": "stdout",
     "output_type": "stream",
     "text": [
      "True\n"
     ]
    }
   ],
   "source": [
    "print(False or True)"
   ]
  },
  {
   "cell_type": "code",
   "execution_count": 7,
   "id": "bd52cace",
   "metadata": {},
   "outputs": [
    {
     "name": "stdout",
     "output_type": "stream",
     "text": [
      "True\n"
     ]
    }
   ],
   "source": [
    "print(True or False)"
   ]
  },
  {
   "cell_type": "code",
   "execution_count": 8,
   "id": "12f733c3",
   "metadata": {},
   "outputs": [
    {
     "name": "stdout",
     "output_type": "stream",
     "text": [
      "False\n"
     ]
    }
   ],
   "source": [
    "print(False or False)"
   ]
  },
  {
   "cell_type": "code",
   "execution_count": 9,
   "id": "9a6a4179",
   "metadata": {},
   "outputs": [
    {
     "name": "stdout",
     "output_type": "stream",
     "text": [
      "False\n"
     ]
    }
   ],
   "source": [
    "print(not True)"
   ]
  },
  {
   "cell_type": "code",
   "execution_count": 10,
   "id": "25ebf137",
   "metadata": {},
   "outputs": [
    {
     "name": "stdout",
     "output_type": "stream",
     "text": [
      "True\n"
     ]
    }
   ],
   "source": [
    "print(not False)"
   ]
  },
  {
   "cell_type": "markdown",
   "id": "ed094345",
   "metadata": {},
   "source": [
    "# Bitwise Operators.\n",
    "### Do below operations on the values provided below:-"
   ]
  },
  {
   "cell_type": "code",
   "execution_count": 12,
   "id": "5c81d737",
   "metadata": {},
   "outputs": [
    {
     "name": "stdout",
     "output_type": "stream",
     "text": [
      "True\n"
     ]
    }
   ],
   "source": [
    "# Bitwise and(&) on True,True\n",
    "print(True & True)"
   ]
  },
  {
   "cell_type": "code",
   "execution_count": 13,
   "id": "d2511b96",
   "metadata": {},
   "outputs": [
    {
     "name": "stdout",
     "output_type": "stream",
     "text": [
      "True\n"
     ]
    }
   ],
   "source": [
    "# Bitwise or(|) on True,False\n",
    "print(True|False)"
   ]
  },
  {
   "cell_type": "code",
   "execution_count": 14,
   "id": "bd21a2e0",
   "metadata": {},
   "outputs": [
    {
     "name": "stdout",
     "output_type": "stream",
     "text": [
      "True\n"
     ]
    }
   ],
   "source": [
    "# Bitwise(^) on True, False\n",
    "print(True^False)"
   ]
  },
  {
   "cell_type": "code",
   "execution_count": 15,
   "id": "cae909f1",
   "metadata": {},
   "outputs": [
    {
     "name": "stdout",
     "output_type": "stream",
     "text": [
      "-2\n"
     ]
    }
   ],
   "source": [
    "# Bitwise negation(~) on True\n",
    "print(~ True)"
   ]
  },
  {
   "cell_type": "code",
   "execution_count": 23,
   "id": "42f221b2",
   "metadata": {},
   "outputs": [
    {
     "name": "stdout",
     "output_type": "stream",
     "text": [
      "4\n"
     ]
    }
   ],
   "source": [
    "# Bitwise left shift ---------> True,2\n",
    "\n",
    "######Manual checking##########\n",
    "#print(bin(True))\n",
    "# 00000000000000000000000000000001\n",
    "# 00000000000000000000000000000100\n",
    "#print(int(0b100))\n",
    "\n",
    "print(True<<2)"
   ]
  },
  {
   "cell_type": "code",
   "execution_count": 24,
   "id": "59c6c567",
   "metadata": {},
   "outputs": [
    {
     "name": "stdout",
     "output_type": "stream",
     "text": [
      "0\n"
     ]
    }
   ],
   "source": [
    "#Bitwise right shift ---------> True,2\n",
    "\n",
    "######Manual checking##########\n",
    "#print(bin(True))\n",
    "# 00000000000000000000000000000001\n",
    "# 00000000000000000000000000000000 \n",
    "#print(int(0b0))\n",
    "\n",
    "print(True>>2)"
   ]
  },
  {
   "cell_type": "markdown",
   "id": "dfa5b04a",
   "metadata": {},
   "source": [
    "#### Q. What is the output of expression inside the print statement. Crosscheck before running the program."
   ]
  },
  {
   "cell_type": "code",
   "execution_count": 26,
   "id": "6afdc3a3",
   "metadata": {},
   "outputs": [
    {
     "name": "stdout",
     "output_type": "stream",
     "text": [
      "140718156032544\n",
      "140718156032544\n",
      "True\n"
     ]
    }
   ],
   "source": [
    "a = True\n",
    "b = True\n",
    "print(id(a))\n",
    "print(id(b))\n",
    "print(a is b)"
   ]
  },
  {
   "cell_type": "code",
   "execution_count": 27,
   "id": "692b79b1",
   "metadata": {},
   "outputs": [
    {
     "name": "stdout",
     "output_type": "stream",
     "text": [
      "False\n"
     ]
    }
   ],
   "source": [
    "print(a is not b)"
   ]
  },
  {
   "cell_type": "code",
   "execution_count": 28,
   "id": "a4f2d38c",
   "metadata": {},
   "outputs": [
    {
     "name": "stdout",
     "output_type": "stream",
     "text": [
      "140718156032576\n",
      "140718156032576\n",
      "True\n"
     ]
    }
   ],
   "source": [
    "a = False\n",
    "b = False\n",
    "print(id(a))\n",
    "print(id(b))\n",
    "print(a is b)"
   ]
  },
  {
   "cell_type": "code",
   "execution_count": 29,
   "id": "b591e1cb",
   "metadata": {},
   "outputs": [
    {
     "name": "stdout",
     "output_type": "stream",
     "text": [
      "False\n"
     ]
    }
   ],
   "source": [
    "print(a is not b)"
   ]
  },
  {
   "cell_type": "markdown",
   "id": "7ad60413",
   "metadata": {},
   "source": [
    "# Q. Membership operation\n",
    "#### in, not in are two membership operators and it returns boolean value"
   ]
  },
  {
   "cell_type": "code",
   "execution_count": 30,
   "id": "ea8aad97",
   "metadata": {},
   "outputs": [
    {
     "name": "stdout",
     "output_type": "stream",
     "text": [
      "True\n"
     ]
    }
   ],
   "source": [
    "print(True in [10,10.20,10+20j,'Python', True])"
   ]
  },
  {
   "cell_type": "code",
   "execution_count": 31,
   "id": "909c5b15",
   "metadata": {},
   "outputs": [
    {
     "name": "stdout",
     "output_type": "stream",
     "text": [
      "True\n"
     ]
    }
   ],
   "source": [
    "print(False in (10,10.20,10+20j,'Python', False))"
   ]
  },
  {
   "cell_type": "code",
   "execution_count": 32,
   "id": "fcf93161",
   "metadata": {},
   "outputs": [
    {
     "name": "stdout",
     "output_type": "stream",
     "text": [
      "True\n"
     ]
    }
   ],
   "source": [
    "print(True in {1,2,3, True})"
   ]
  },
  {
   "cell_type": "code",
   "execution_count": 33,
   "id": "225f935f",
   "metadata": {},
   "outputs": [
    {
     "name": "stdout",
     "output_type": "stream",
     "text": [
      "True\n"
     ]
    }
   ],
   "source": [
    "print(True in {True:100, False:200, True:300})"
   ]
  },
  {
   "cell_type": "code",
   "execution_count": 34,
   "id": "e43eb301",
   "metadata": {},
   "outputs": [
    {
     "name": "stdout",
     "output_type": "stream",
     "text": [
      "True\n"
     ]
    }
   ],
   "source": [
    "print(False in {True:100, False:200, True:300})"
   ]
  }
 ],
 "metadata": {
  "kernelspec": {
   "display_name": "Python 3 (ipykernel)",
   "language": "python",
   "name": "python3"
  },
  "language_info": {
   "codemirror_mode": {
    "name": "ipython",
    "version": 3
   },
   "file_extension": ".py",
   "mimetype": "text/x-python",
   "name": "python",
   "nbconvert_exporter": "python",
   "pygments_lexer": "ipython3",
   "version": "3.11.5"
  }
 },
 "nbformat": 4,
 "nbformat_minor": 5
}
